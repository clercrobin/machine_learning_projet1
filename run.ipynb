{
 "cells": [
  {
   "cell_type": "code",
   "execution_count": 7,
   "metadata": {},
   "outputs": [
    {
     "name": "stdout",
     "output_type": "stream",
     "text": [
      "The autoreload extension is already loaded. To reload it, use:\n",
      "  %reload_ext autoreload\n"
     ]
    }
   ],
   "source": [
    "# Useful starting lines\n",
    "import pickle\n",
    "%matplotlib inline\n",
    "import numpy as np\n",
    "import matplotlib.pyplot as plt\n",
    "import csv\n",
    "%load_ext autoreload\n",
    "%autoreload 2\n",
    "from IPython import display\n",
    "from proj1_helpers import *\n",
    "from implementations import *\n",
    "from features import *\n",
    "from cross_validation import *"
   ]
  },
  {
   "cell_type": "code",
   "execution_count": 8,
   "metadata": {},
   "outputs": [],
   "source": [
    "# Evaluate a model\n",
    "\n",
    "def accuracy(y, y_pred):\n",
    "    \"\"\" Compute accuracy. \"\"\"\n",
    "    right = np.sum(y_pred == y)\n",
    "    wrong = len(y_pred) - right\n",
    "    accuracy = right / len(y)\n",
    "\n",
    "    print(\"Good prediction: %i/%i (%.3f%%)\\nWrong prediction: %i/%i (%.3f%%)\" %\n",
    "        (right, len(y), 100.0 * accuracy, wrong, len(y), 100.0 * (1-accuracy)))\n",
    "    \n",
    "    return accuracy"
   ]
  },
  {
   "cell_type": "code",
   "execution_count": 9,
   "metadata": {},
   "outputs": [],
   "source": [
    "# Load the whole data\n",
    "\n",
    "# Pickle dataset for fast reload\n",
    "y_train, x_train, ids_train, headers = load_csv_data('data/train.csv')\n",
    "y_test, x_test, ids_test, headers_test = load_csv_data('data/test.csv')\n",
    "pickle.dump((y_train, x_train, ids_train, headers), open('train.pickle', 'wb'))\n",
    "pickle.dump((y_test, x_test, ids_test, headers_test), open('test.pickle', 'wb'))\n",
    "\n",
    "# Load dataset using pickle\n",
    "def reload_dataset():\n",
    "    global y_train, x_train, ids_train, headers, y_test, x_test, ids_test, headers_test\n",
    "    y_train, x_train, ids_train, headers = pickle.load(open('train.pickle', 'rb'))\n",
    "    y_test, x_test, ids_test, headers_test = pickle.load(open('test.pickle', 'rb'))"
   ]
  },
  {
   "cell_type": "code",
   "execution_count": 10,
   "metadata": {
    "scrolled": true
   },
   "outputs": [
    {
     "data": {
      "text/plain": [
       "<matplotlib.colorbar.Colorbar at 0x7f007c4d30f0>"
      ]
     },
     "execution_count": 10,
     "metadata": {},
     "output_type": "execute_result"
    },
    {
     "data": {
      "image/png": "[encoded data removed]",
      "text/plain": [
       "<matplotlib.figure.Figure at 0x7f0079115208>"
      ]
     },
     "metadata": {},
     "output_type": "display_data"
    }
   ],
   "source": [
    "# Correlation analysis\n",
    "\n",
    "correlation_matrix = np.corrcoef(x_train.T)\n",
    "\n",
    "plt.imshow(correlation_matrix)\n",
    "plt.colorbar()"
   ]
  },
  {
   "cell_type": "code",
   "execution_count": 11,
   "metadata": {},
   "outputs": [],
   "source": [
    "def processing(x, deg, jet_mod=False, jet_num=0, mean=None, std=None):\n",
    "    long_tails=[0, 1, 2, 3, 5, 8, 9, 10, 13, 16, 19, 21, 23, 26, 29]\n",
    "    # Get the valid and invalid values (-999)\n",
    "    missing_mask = x == -999\n",
    "    correct_mask = x != -999\n",
    "    \n",
    "    # Log transform all the long tails\n",
    "    for i in long_tails:\n",
    "        # Only the valid values\n",
    "        x[correct_mask[:,i],i] = np.log(1 + x[correct_mask[:,i],i])\n",
    "\n",
    "    # Difference between angles\n",
    "    angle = [15, 18, 20]\n",
    "    diff01 = np.abs(x[:,angle[0]] - x[:,angle[1]]).reshape((len(x), 1))\n",
    "    diff02 = np.abs(x[:,angle[0]] - x[:,angle[2]]).reshape((len(x), 1))\n",
    "    diff12 = np.abs(x[:,angle[1]] - x[:,angle[2]]).reshape((len(x), 1))\n",
    "    \n",
    "    x = np.hstack((x, diff01, diff02, diff12))\n",
    "            \n",
    "    # Exclude some invalid variables depending of the jet_num\n",
    "    if jet_mod:\n",
    "        features_excluded = [[4, 5, 6, 12, 22, 23, 24, 25, 26, 27, 28], [4, 5, 6, 12, 22, 26, 27, 28], []]\n",
    "        excepted = np.setdiff1d(np.arange(x.shape[1]), features_excluded[jet_num])\n",
    "        x = x[:,excepted]\n",
    "    print(\"Remaining number of variables: \" + str(len(x[0])))\n",
    "    \n",
    "    # Cross terms\n",
    "    indices_i = np.array(np.sum([[i for j in range(i)] for i in range(x.shape[1])]))\n",
    "    indices_j = np.array(np.sum([[j for j in range(i)] for i in range(x.shape[1])]))\n",
    "    cross_terms = x[:,indices_i] * x[:,indices_j]\n",
    "    x = np.hstack((x, cross_terms))\n",
    "\n",
    "    # Standardize\n",
    "    x, mean, std = standardize(x, mean, std)\n",
    "\n",
    "    # Build polynomial features\n",
    "    x = build_poly(x, deg)\n",
    "    \n",
    "    # Add a bias term\n",
    "    x = np.c_[np.ones(len(x)), x]\n",
    "    \n",
    "    return x, mean, std\n",
    "\n",
    "def show_x(x):\n",
    "    for i in range(len(x[0])):\n",
    "        array = x[:,i]\n",
    "        plt.hist(array, 250)\n",
    "        plt.title(\"Variable %i: %s\"%(i, headers[i+2]))\n",
    "        plt.show()\n",
    "    return x"
   ]
  },
  {
   "cell_type": "code",
   "execution_count": 12,
   "metadata": {
    "scrolled": false
   },
   "outputs": [
    {
     "name": "stdout",
     "output_type": "stream",
     "text": [
      "Jet: 0\n",
      "Remaining number of variables: 22\n",
      "Loss = 0.236142\n",
      "Good prediction: 16671/19983 (83.426%)\n",
      "Wrong prediction: 3312/19983 (16.574%)\n",
      "Jet: 1\n",
      "Remaining number of variables: 25\n",
      "Loss = 0.328547\n",
      "Good prediction: 11869/15509 (76.530%)\n",
      "Wrong prediction: 3640/15509 (23.470%)\n",
      "Jet: 2\n",
      "Remaining number of variables: 33\n",
      "Loss = 0.290482\n",
      "Good prediction: 11686/14509 (80.543%)\n",
      "Wrong prediction: 2823/14509 (19.457%)\n",
      "\n",
      "Global accuracy: 0.804503909922\n"
     ]
    }
   ],
   "source": [
    "# Load dataset\n",
    "reload_dataset()\n",
    "\n",
    "# Parameters\n",
    "ratio = 0.8\n",
    "deg = 1\n",
    "accuracies = []\n",
    "numbers = []\n",
    "\n",
    "# We train a classifier for each \"jet\"\n",
    "for i in range(3):\n",
    "    print(\"Jet: \" + str(i))\n",
    "    # Select the corresponding rows\n",
    "    jet_mask_train = x_train[:,22] == i\n",
    "    jet_mask_test = x_test[:,22] == i\n",
    "    if i == 2:\n",
    "        # 2 and 3 are treated the same way\n",
    "        jet_mask_train = np.asarray(x_train[:,22]==i) + np.asarray(x_train[:,22]==3) \n",
    "        jet_mask_test = np.asarray(x_test[:,22]==i) + np.asarray(x_test[:,22]==3) \n",
    "    x_jet_train, x_jet_test = x_train[jet_mask_train], x_test[jet_mask_test]\n",
    "    y_jet_train, y_jet_test = y_train[jet_mask_train], y_test[jet_mask_test]\n",
    "\n",
    "    # Process features\n",
    "    x_jet_train, mean, std = processing(x_jet_train, deg, True, i)\n",
    "    #x_jet_test, _, _ = processing(x_jet_test, deg, True, i, mean, std)\n",
    "\n",
    "    # Split data (create a validation set)\n",
    "    x_jet_train, y_jet_train, x_jet_valid, y_jet_valid = split_data(x_jet_train, y_jet_train, ratio)\n",
    "\n",
    "    # Training\n",
    "    #w, loss = least_squares_SGD(y_train2, train_processed_poly, np.zeros(train_processed_poly.shape[1]), 200, 3e-2)\n",
    "    w, loss = ridge_regression(y_jet_train,x_jet_train, 1e-6)\n",
    "    #w, loss = reg_logistic_regression_SGD((y_train2 == 1).astype(float), train_processed_poly, 1e-5,\n",
    "    #\tnp.zeros(train_processed_poly.shape[1]), 2000, 1e-7)\n",
    "    print(\"Loss = %f\"%(loss))\n",
    "\n",
    "    # Prediction\n",
    "    y_jet_valid_pred = predict_labels(w, x_jet_valid)\n",
    "    #y_jet_test_pred = predict_labels(w, x_jet_test)\n",
    "\n",
    "    # Evaluation\n",
    "    #create_csv_submission(ids_test[jet_mask_test], y_jet_test_pred, \"submission\" + str(i))\n",
    "    accuracies.append(accuracy(y_jet_valid, y_jet_valid_pred))\n",
    "    numbers.append(len(y_jet_valid))\n",
    "\n",
    "print('\\nGlobal accuracy:', np.dot(accuracies, numbers) / np.sum(numbers))"
   ]
  },
  {
   "cell_type": "code",
   "execution_count": null,
   "metadata": {},
   "outputs": [],
   "source": []
  }
 ],
 "metadata": {
  "kernelspec": {
   "display_name": "Python 3",
   "language": "python",
   "name": "python3"
  },
  "language_info": {
   "codemirror_mode": {
    "name": "ipython",
    "version": 3
   },
   "file_extension": ".py",
   "mimetype": "text/x-python",
   "name": "python",
   "nbconvert_exporter": "python",
   "pygments_lexer": "ipython3",
   "version": "3.5.2"
  }
 },
 "nbformat": 4,
 "nbformat_minor": 2
}
