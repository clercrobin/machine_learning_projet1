{
 "cells": [
  {
   "cell_type": "code",
   "execution_count": 17,
   "metadata": {},
   "outputs": [
    {
     "name": "stdout",
     "output_type": "stream",
     "text": [
      "The autoreload extension is already loaded. To reload it, use:\n",
      "  %reload_ext autoreload\n"
     ]
    }
   ],
   "source": [
    "# Useful starting lines\n",
    "import pickle\n",
    "%matplotlib inline\n",
    "import numpy as np\n",
    "import matplotlib.pyplot as plt\n",
    "import csv\n",
    "%load_ext autoreload\n",
    "%autoreload 2\n",
    "from IPython import display\n",
    "from proj1_helpers import *\n",
    "from implementations import *\n",
    "from features import *\n",
    "from cross_validation import *"
   ]
  },
  {
   "cell_type": "code",
   "execution_count": 3,
   "metadata": {
    "collapsed": true
   },
   "outputs": [],
   "source": [
    "# Evaluate a model\n",
    "\n",
    "def accuracy(y, y_pred):\n",
    "    \"\"\" Compute accuracy. \"\"\"\n",
    "    right = np.sum(y_pred == y)\n",
    "    wrong = len(y_pred) - right\n",
    "    accuracy = right / len(y)\n",
    "\n",
    "    #print(\"Good prediction: %i/%i (%.3f%%)\\nWrong prediction: %i/%i (%.3f%%)\" %\n",
    "        #(right, len(y), 100.0 * accuracy, wrong, len(y), 100.0 * (1-accuracy)))\n",
    "    \n",
    "    return accuracy"
   ]
  },
  {
   "cell_type": "code",
   "execution_count": null,
   "metadata": {
    "collapsed": true
   },
   "outputs": [],
   "source": [
    "# Load the whole data\n",
    "\n",
    "# Pickle dataset for fast reload\n",
    "y_train, x_train, ids_train, headers = load_csv_data('data/train.csv')\n",
    "y_test, x_test, ids_test, headers_test = load_csv_data('data/test.csv')\n",
    "pickle.dump((y_train, x_train, ids_train, headers), open('train.pickle', 'wb'))\n",
    "pickle.dump((y_test, x_test, ids_test, headers_test), open('test.pickle', 'wb'))\n",
    "\n"
   ]
  },
  {
   "cell_type": "code",
   "execution_count": 4,
   "metadata": {
    "collapsed": true
   },
   "outputs": [],
   "source": [
    "# Load dataset using pickle\n",
    "def reload_dataset():\n",
    "    global y_train, x_train, ids_train, headers, y_test, x_test, ids_test, headers_test\n",
    "    y_train, x_train, ids_train, headers = pickle.load(open('train.pickle', 'rb'))\n",
    "    y_test, x_test, ids_test, headers_test = pickle.load(open('test.pickle', 'rb'))"
   ]
  },
  {
   "cell_type": "code",
   "execution_count": 4,
   "metadata": {
    "scrolled": true
   },
   "outputs": [
    {
     "data": {
      "text/plain": [
       "<matplotlib.colorbar.Colorbar at 0x10cfe5f28>"
      ]
     },
     "execution_count": 4,
     "metadata": {},
     "output_type": "execute_result"
    },
    {
     "data": {
      "image/png": "[encoded data removed]",
      "text/plain": [
       "<matplotlib.figure.Figure at 0x10d42d438>"
      ]
     },
     "metadata": {},
     "output_type": "display_data"
    }
   ],
   "source": [
    "# Correlation analysis\n",
    "\n",
    "correlation_matrix = np.corrcoef(x_train.T)\n",
    "\n",
    "plt.imshow(correlation_matrix)\n",
    "plt.colorbar()"
   ]
  },
  {
   "cell_type": "code",
   "execution_count": 5,
   "metadata": {
    "collapsed": true
   },
   "outputs": [],
   "source": [
    "def build_k_indices(y, k_fold, seed=1):\n",
    "    \"\"\"build k indices for k-fold.\"\"\"\n",
    "    totalLength = y.shape[0]\n",
    "    intervalLength = int(totalLength / k_fold) # Length of an internval\n",
    "    np.random.seed()\n",
    "    indices = np.random.permutation(totalLength)\n",
    "    k_indices = [indices[k * intervalLength: (k + 1) * intervalLength] for k in range(k_fold)]\n",
    "    #print(k_indices)\n",
    "    return np.array(k_indices)"
   ]
  },
  {
   "cell_type": "code",
   "execution_count": 6,
   "metadata": {
    "collapsed": true
   },
   "outputs": [],
   "source": [
    "def processing(x, deg, jet_mod=False, jet_num=0, mean=None, std=None):\n",
    "    long_tails=[0, 1, 2, 3, 5, 8, 9, 10, 13, 16, 19, 21, 23, 26, 29]\n",
    "    # Get the valid and invalid values (-999)\n",
    "    missing_mask = x == -999\n",
    "    correct_mask = x != -999\n",
    "    \n",
    "    # Log transform all the long tails\n",
    "    for i in long_tails:\n",
    "        # Only the valid values\n",
    "        x[correct_mask[:,i],i] = np.log(1 + x[correct_mask[:,i],i])\n",
    "\n",
    "    # Difference between angles\n",
    "    angle = [15, 18, 20]\n",
    "    diff01 = np.abs(x[:,angle[0]] - x[:,angle[1]]).reshape((len(x), 1))\n",
    "    diff02 = np.abs(x[:,angle[0]] - x[:,angle[2]]).reshape((len(x), 1))\n",
    "    diff12 = np.abs(x[:,angle[1]] - x[:,angle[2]]).reshape((len(x), 1))\n",
    "    \n",
    "    x = np.hstack((x, diff01, diff02, diff12))\n",
    "            \n",
    "    # Exclude some invalid variables depending of the jet_num\n",
    "    if jet_mod:\n",
    "        features_excluded = [[4, 5, 6, 12, 15,18,20, 22, 23, 24, 25, 26, 27, 28], [4, 5, 6, 12, 15,18,20, 22,25, 26, 27, 28], [15,18,20,25,28], [15,18,20,25,28]]\n",
    "        excepted = np.setdiff1d(np.arange(x.shape[1]), features_excluded[jet_num])\n",
    "        x = x[:,excepted]\n",
    "    #print(\"Remaining number of variables: \" + str(len(x[0])))\n",
    "    \n",
    "\n",
    "    # Standardize\n",
    "    x, mean, std = standardize(x, mean, std)\n",
    "\n",
    "    # Build polynomial features\n",
    "    x = build_poly(x, deg)\n",
    "    \n",
    "    return x, mean, std\n",
    "\n",
    "def show_x(x):\n",
    "    for i in range(len(x[0])):\n",
    "        array = x[:,i]\n",
    "        plt.hist(array, 250)\n",
    "        plt.title(\"Variable %i: %s\"%(i, headers[i+2]))\n",
    "        plt.show()\n",
    "    return x"
   ]
  },
  {
   "cell_type": "code",
   "execution_count": null,
   "metadata": {
    "scrolled": false
   },
   "outputs": [
    {
     "name": "stdout",
     "output_type": "stream",
     "text": [
      "Jet: 2\n",
      "Degré : 1\n",
      "Lambda : 1e-11\n",
      "New best accuracy !!!!!!!!!!!!!!! Score : 0.713744141163 Lambda : 1e-11 Gamma : 1e-08 Degre : 1 Jet : 2\n",
      "Tested but not opti : 0.713744141163\n",
      "New best accuracy !!!!!!!!!!!!!!! Score : 0.717231872071 Lambda : 1e-11 Gamma : 1e-07 Degre : 1 Jet : 2\n",
      "Tested but not opti : 0.717231872071\n",
      "New best accuracy !!!!!!!!!!!!!!! Score : 0.736931348222 Lambda : 1e-11 Gamma : 1e-06 Degre : 1 Jet : 2\n",
      "Tested but not opti : 0.736931348222\n",
      "New best accuracy !!!!!!!!!!!!!!! Score : 0.773090708575 Lambda : 1e-11 Gamma : 1e-05 Degre : 1 Jet : 2\n",
      "Tested but not opti : 0.773090708575\n",
      "New best accuracy !!!!!!!!!!!!!!! Score : 0.809360352909 Lambda : 1e-11 Gamma : 0.0001 Degre : 1 Jet : 2\n",
      "Tested but not opti : 0.809360352909\n",
      "New best accuracy !!!!!!!!!!!!!!! Score : 0.814157706093 Lambda : 1e-11 Gamma : 0.001 Degre : 1 Jet : 2\n",
      "Tested but not opti : 0.814157706093\n"
     ]
    },
    {
     "name": "stderr",
     "output_type": "stream",
     "text": [
      "/Users/robinclerc/Dropbox/EPFL/Machine learning/ML_course/projects/project1/machine_learning_projet1/implementations.py:105: RuntimeWarning: divide by zero encountered in log\n",
      "  return -(np.dot(y.T, np.log(p)) + np.dot((1-y).T, np.log(1-p))) + lambda_*np.dot(w.T, w)\n",
      "/Users/robinclerc/Dropbox/EPFL/Machine learning/ML_course/projects/project1/machine_learning_projet1/implementations.py:80: RuntimeWarning: overflow encountered in exp\n",
      "  return 1 / (1 + np.exp(-t))\n"
     ]
    },
    {
     "name": "stdout",
     "output_type": "stream",
     "text": [
      "Tested but not opti : 0.757609594706\n",
      "Tested but not opti : 0.751075268817\n",
      "Tested but not opti : 0.745864350703\n",
      "Lambda : 1.33352143216e-10\n",
      "Tested but not opti : 0.710697546181\n",
      "Tested but not opti : 0.714736696995\n",
      "Tested but not opti : 0.734201819686\n",
      "Tested but not opti : 0.768582850841\n",
      "Tested but not opti : 0.806575682382\n",
      "Tested but not opti : 0.810256410256\n",
      "Tested but not opti : 0.754025365316\n",
      "Tested but not opti : 0.744306589468\n",
      "Tested but not opti : 0.761276537083\n",
      "Lambda : 1.77827941004e-09\n",
      "Tested but not opti : 0.711276537083\n",
      "Tested but not opti : 0.714474772539\n",
      "Tested but not opti : 0.733677970775\n",
      "Tested but not opti : 0.767838433967\n",
      "Tested but not opti : 0.8052936311\n",
      "Tested but not opti : 0.810904328646\n",
      "Tested but not opti : 0.761304108078\n",
      "Tested but not opti : 0.750096498484\n",
      "Tested but not opti : 0.744251447477\n",
      "Lambda : 2.37137370566e-08\n",
      "Tested but not opti : 0.710959470637\n",
      "Tested but not opti : 0.714612627516\n",
      "Tested but not opti : 0.733388475324\n",
      "Tested but not opti : 0.766735594155\n",
      "Tested but not opti : 0.805031706645\n",
      "Tested but not opti : 0.812751585332\n",
      "Tested but not opti : 0.752302178109\n",
      "Tested but not opti : 0.756796250345\n",
      "Tested but not opti : 0.736738351254\n",
      "Lambda : 3.16227766017e-07\n",
      "Tested but not opti : 0.710683760684\n",
      "Tested but not opti : 0.714130135098\n",
      "Tested but not opti : 0.733278191343\n",
      "Tested but not opti : 0.766583953681\n",
      "Tested but not opti : 0.803956437827\n",
      "Tested but not opti : 0.810283981252\n",
      "Tested but not opti : 0.765453542873\n",
      "Tested but not opti : 0.742721257237\n",
      "Tested but not opti : 0.733636614282\n",
      "Lambda : 4.21696503429e-06\n",
      "Tested but not opti : 0.710835401158\n",
      "Tested but not opti : 0.71406120761\n",
      "Tested but not opti : 0.733126550868\n",
      "Tested but not opti : 0.766515026192\n",
      "Tested but not opti : 0.804039150813\n",
      "Tested but not opti : 0.812379376896\n",
      "Tested but not opti : 0.758836503998\n",
      "Tested but not opti : 0.740736145575\n",
      "Tested but not opti : 0.748221670802\n",
      "Lambda : 5.6234132519e-05\n",
      "Tested but not opti : 0.710849186656\n",
      "Tested but not opti : 0.713937138131\n",
      "Tested but not opti : 0.732961124897\n",
      "Tested but not opti : 0.766184174249\n",
      "Tested but not opti : 0.804025365316\n",
      "Tested but not opti : 0.81105596912\n",
      "Tested but not opti : 0.764695340502\n",
      "Tested but not opti : 0.746415770609\n",
      "Tested but not opti : 0.74758753791\n",
      "Lambda : 0.000749894209332\n",
      "Tested but not opti : 0.710890543149\n",
      "Tested but not opti : 0.713771712159\n",
      "Tested but not opti : 0.732988695892\n",
      "Tested but not opti : 0.766556382685\n",
      "Tested but not opti : 0.804149434795\n",
      "Tested but not opti : 0.810187482768\n",
      "Tested but not opti : 0.760380479735\n",
      "Tested but not opti : 0.753901295837\n",
      "Tested but not opti : 0.736255858837\n",
      "Lambda : 0.01\n",
      "Tested but not opti : 0.710421836228\n",
      "Tested but not opti : 0.713702784671\n",
      "Tested but not opti : 0.732905982906\n",
      "Tested but not opti : 0.766087675765\n",
      "Tested but not opti : 0.803859939344\n",
      "Tested but not opti : 0.808036945134\n"
     ]
    }
   ],
   "source": [
    "# Load dataset\n",
    "reload_dataset()\n",
    "\n",
    "# Parameters\n",
    "ratio = 0.8\n",
    "deg = 1\n",
    "k_fold = 10\n",
    "\n",
    "accuracies = []\n",
    "numbers = []\n",
    "\n",
    "\n",
    "mon_fichier = open(\"fichier.txt\", \"w\") # Argh j'ai tout écrasé !\n",
    "\n",
    "\n",
    "\n",
    "# We train a classifier for each \"jet\"\n",
    "for i in range(2,-1,-1):\n",
    "    print(\"Jet: \" + str(i))\n",
    "    best = 0\n",
    "    best_lambda = 0\n",
    "    best_degree = 0\n",
    "    best_gamma = 0\n",
    "    # Select the corresponding rows\n",
    "    jet_mask_train = x_train[:,22] == i\n",
    "    jet_mask_test = x_test[:,22] == i\n",
    "    if i == 2 :\n",
    "        # 2 and 3 are treated the same way\n",
    "        jet_mask_train = np.asarray(x_train[:,22]==i) + np.asarray(x_train[:,22]==3) \n",
    "        jet_mask_test = np.asarray(x_test[:,22]==i) + np.asarray(x_test[:,22]==3) \n",
    "        \n",
    "    x_jet_train, x_jet_test = x_train[jet_mask_train], x_test[jet_mask_test]\n",
    "    y_jet_train, y_jet_test = y_train[jet_mask_train], y_test[jet_mask_test]\n",
    "    \n",
    "    k_indices = build_k_indices(y_jet_train, k_fold)\n",
    "\n",
    "    for deg in range(1,20,1):\n",
    "        print(\"Degré : \" + str(deg))\n",
    "        \n",
    "        for lambda_ in np.logspace(-11,-2,9):\n",
    "            print(\"Lambda : \" + str(lambda_))\n",
    "            \n",
    "            for gamma in np.logspace(-8,0,9):\n",
    "            \n",
    "    #             if i ==0:\n",
    "    #                 deg=10\n",
    "    #                 lambda_=10**(-7)\n",
    "    #             elif i ==1:\n",
    "    #                 deg=10\n",
    "    #                 lambda_=10**(-10)\n",
    "    #             elif i ==2:\n",
    "    #                 deg=9\n",
    "    #                 lambda_=10**(-8)\n",
    "    #             elif i ==3:\n",
    "    #                 deg=12\n",
    "    #                 lambda_=4*10**(-7)\n",
    "\n",
    "                accuracies = []\n",
    "                numbers = []\n",
    "\n",
    "                # Process features\n",
    "                x_jet_train_processed, mean, std = processing(x_jet_train, deg, True, i)\n",
    "    #             x_jet_test_processed, _, _ = processing(x_jet_test, deg, True, i, mean, std)\n",
    "\n",
    "                # Split data (create a validation set)\n",
    "                #x_jet_train_current, y_jet_train_current, x_jet_valid_current, y_jet_valid_current = split_data(x_jet_train_current, y_jet_train, ratio)\n",
    "\n",
    "                for k in range(k_fold):\n",
    "                    new_accuracy = cross_validation(y_jet_train, x_jet_train_processed, k_indices, k, lambda_, gamma)\n",
    "                    accuracies.append(new_accuracy)\n",
    "\n",
    "                # Training\n",
    "                #w,loss =least_squares(y_jet_train, x_jet_train)\n",
    "                #w, loss = least_squares_SGD(y_jet_train, x_jet_train, np.zeros(x_jet_train.shape[1]), 200, 3e-2)\n",
    "                w, loss = ridge_regression(y_jet_train,x_jet_train_processed, lambda_)\n",
    "                #w, loss = reg_logistic_regression_SGD((y_train2 == 1).astype(float), train_processed_poly, 1e-5,\n",
    "                #\tnp.zeros(train_processed_poly.shape[1]), 2000, 1e-7)\n",
    "                #print(\"Loss = %f\"%(loss))\n",
    "\n",
    "                # Prediction\n",
    "                #y_jet_valid_pred = predict_labels(w, x_jet_valid)\n",
    "    #             y_jet_test_pred = predict_labels(w, x_jet_test_processed)\n",
    "\n",
    "                # Evaluation\n",
    "                new_accuracy = np.asarray(accuracies).mean()\n",
    "                if new_accuracy>best:\n",
    "                    best=new_accuracy\n",
    "                    print(\"New best accuracy !!!!!!!!!!!!!!! Score : \" + str(new_accuracy) +\" Lambda : \" +str(lambda_)+\" Gamma : \" +str(gamma) + \" Degre : \"+str(deg) + \" Jet : \" + str(i) )\n",
    "                    mon_fichier.write(\"New best accuracy !!!!!!!!!!!!!!! Score : \" + str(new_accuracy) +\" Lambda : \" +str(lambda_)+\" Gamma : \" +str(gamma) + \" Degre : \"+str(deg) + \" Jet : \" + str(i)  )\n",
    "                    best_lambda = lambda_\n",
    "                    best_degree = deg\n",
    "                accuracies.append(new_accuracy)\n",
    "                print(\"Tested but not opti : \" + str(new_accuracy))\n",
    "    #             #numbers.append(len(y_jet_valid))\n",
    "    #             create_csv_submission(ids_test[jet_mask_test], y_jet_test_pred, \"submission\" + str(i))\n",
    "    #             break\n",
    "    #         break\n",
    "    #    break\n",
    "\n",
    "mon_fichier.close()\n",
    "        #print('\\nGlobal accuracy:', np.dot(accuracies, numbers) / np.sum(numbers))"
   ]
  },
  {
   "cell_type": "code",
   "execution_count": null,
   "metadata": {},
   "outputs": [],
   "source": [
    "for i in range(3,-1,-1):\n",
    "    print(i)"
   ]
  },
  {
   "cell_type": "code",
   "execution_count": 7,
   "metadata": {},
   "outputs": [
    {
     "name": "stdout",
     "output_type": "stream",
     "text": [
      "[1 4 9]\n"
     ]
    }
   ],
   "source": [
    "print(np.square(np.asarray([1,2,3])))"
   ]
  },
  {
   "cell_type": "code",
   "execution_count": 16,
   "metadata": {},
   "outputs": [
    {
     "name": "stdout",
     "output_type": "stream",
     "text": [
      "['Id' 'Prediction' 'DER_mass_MMC' 'DER_mass_transverse_met_lep'\n",
      " 'DER_mass_vis' 'DER_pt_h' 'DER_deltaeta_jet_jet' 'DER_mass_jet_jet'\n",
      " 'DER_prodeta_jet_jet' 'DER_deltar_tau_lep' 'DER_pt_tot' 'DER_sum_pt'\n",
      " 'DER_pt_ratio_lep_tau' 'DER_met_phi_centrality' 'DER_lep_eta_centrality'\n",
      " 'PRI_tau_pt' 'PRI_tau_eta' 'PRI_tau_phi' 'PRI_lep_pt' 'PRI_lep_eta'\n",
      " 'PRI_lep_phi' 'PRI_met' 'PRI_met_phi' 'PRI_met_sumet' 'PRI_jet_num'\n",
      " 'PRI_jet_leading_pt' 'PRI_jet_leading_eta' 'PRI_jet_leading_phi'\n",
      " 'PRI_jet_subleading_pt' 'PRI_jet_subleading_eta' 'PRI_jet_subleading_phi'\n",
      " 'PRI_jet_all_pt']\n"
     ]
    }
   ],
   "source": [
    "print(headers)"
   ]
  },
  {
   "cell_type": "code",
   "execution_count": null,
   "metadata": {
    "collapsed": true
   },
   "outputs": [],
   "source": []
  }
 ],
 "metadata": {
  "kernelspec": {
   "display_name": "Python 3",
   "language": "python",
   "name": "python3"
  },
  "language_info": {
   "codemirror_mode": {
    "name": "ipython",
    "version": 3
   },
   "file_extension": ".py",
   "mimetype": "text/x-python",
   "name": "python",
   "nbconvert_exporter": "python",
   "pygments_lexer": "ipython3",
   "version": "3.6.1"
  }
 },
 "nbformat": 4,
 "nbformat_minor": 2
}
